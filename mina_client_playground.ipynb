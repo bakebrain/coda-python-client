{
 "cells": [
  {
   "cell_type": "code",
   "execution_count": 39,
   "id": "turned-sperm",
   "metadata": {
    "ExecuteTime": {
     "end_time": "2021-03-01T17:55:32.638841Z",
     "start_time": "2021-03-01T17:55:32.168086Z"
    }
   },
   "outputs": [
    {
     "name": "stdout",
     "output_type": "stream",
     "text": [
      "The autoreload extension is already loaded. To reload it, use:\n",
      "  %reload_ext autoreload\n"
     ]
    }
   ],
   "source": [
    "%load_ext blackcellmagic\n",
    "%load_ext autoreload\n",
    "%autoreload 2"
   ]
  },
  {
   "cell_type": "code",
   "execution_count": 20,
   "id": "significant-gather",
   "metadata": {
    "ExecuteTime": {
     "end_time": "2021-03-01T17:50:17.735387Z",
     "start_time": "2021-03-01T17:50:16.180137Z"
    }
   },
   "outputs": [],
   "source": [
    "import pandas as pd"
   ]
  },
  {
   "cell_type": "code",
   "execution_count": 3,
   "id": "bronze-dryer",
   "metadata": {
    "ExecuteTime": {
     "end_time": "2021-03-01T17:45:47.953303Z",
     "start_time": "2021-03-01T17:45:47.762558Z"
    }
   },
   "outputs": [],
   "source": [
    "import sys\n",
    "sys.path.append('/Users/bakebrain/src')\n",
    "\n",
    "from mina.MinaClient import Client, Currency"
   ]
  },
  {
   "cell_type": "code",
   "execution_count": null,
   "id": "constitutional-southwest",
   "metadata": {},
   "outputs": [],
   "source": []
  },
  {
   "cell_type": "markdown",
   "id": "speaking-receiver",
   "metadata": {},
   "source": [
    "# currency"
   ]
  },
  {
   "cell_type": "code",
   "execution_count": 4,
   "id": "exclusive-determination",
   "metadata": {
    "ExecuteTime": {
     "end_time": "2021-03-01T17:45:54.592412Z",
     "start_time": "2021-03-01T17:45:54.550880Z"
    }
   },
   "outputs": [],
   "source": [
    "rand_curr = Currency.random(Currency(1), Currency(5))"
   ]
  },
  {
   "cell_type": "code",
   "execution_count": 7,
   "id": "south-aggregate",
   "metadata": {
    "ExecuteTime": {
     "end_time": "2021-03-01T17:46:08.073885Z",
     "start_time": "2021-03-01T17:46:08.050869Z"
    }
   },
   "outputs": [
    {
     "data": {
      "text/plain": [
       "('4.951736193', 4951736193)"
      ]
     },
     "execution_count": 7,
     "metadata": {},
     "output_type": "execute_result"
    }
   ],
   "source": [
    "str(rand_curr), rand_curr.nanominas()"
   ]
  },
  {
   "cell_type": "code",
   "execution_count": null,
   "id": "vietnamese-reaction",
   "metadata": {},
   "outputs": [],
   "source": []
  },
  {
   "cell_type": "markdown",
   "id": "continuing-green",
   "metadata": {
    "ExecuteTime": {
     "end_time": "2021-03-01T13:23:30.432730Z",
     "start_time": "2021-03-01T13:23:30.401535Z"
    }
   },
   "source": [
    "# client"
   ]
  },
  {
   "cell_type": "code",
   "execution_count": 10,
   "id": "starting-fraud",
   "metadata": {
    "ExecuteTime": {
     "end_time": "2021-03-01T17:47:35.249523Z",
     "start_time": "2021-03-01T17:47:35.232234Z"
    }
   },
   "outputs": [],
   "source": [
    "MY_PK = 'B62qmYvD5UPBcfeTWchgtQ7xcuYFs2kHQBw75V6LoFgigT3v5MykK7T'"
   ]
  },
  {
   "cell_type": "code",
   "execution_count": 11,
   "id": "unexpected-assignment",
   "metadata": {
    "ExecuteTime": {
     "end_time": "2021-03-01T17:47:36.116980Z",
     "start_time": "2021-03-01T17:47:36.100017Z"
    }
   },
   "outputs": [],
   "source": [
    "GRAPHQL_HOST = '127.0.0.1'\n",
    "GRAPHQL_PORT = '3085'\n",
    "\n",
    "mina_client = Client(graphql_host=GRAPHQL_HOST, graphql_port=GRAPHQL_PORT)"
   ]
  },
  {
   "cell_type": "code",
   "execution_count": 12,
   "id": "chief-conviction",
   "metadata": {
    "ExecuteTime": {
     "end_time": "2021-03-01T17:47:39.119555Z",
     "start_time": "2021-03-01T17:47:38.966215Z"
    }
   },
   "outputs": [
    {
     "data": {
      "text/plain": [
       "{'wallet': {'publicKey': 'B62qmYvD5UPBcfeTWchgtQ7xcuYFs2kHQBw75V6LoFgigT3v5MykK7T',\n",
       "  'balance': {'total': '65945401080923', 'unknown': '65945401080923'},\n",
       "  'nonce': '4',\n",
       "  'receiptChainHash': '2n1ryTdFMXCc7DmknY1a63VpkW1RbcKHktCfhGZMopHSN6xBUK89',\n",
       "  'delegate': 'B62qmYvD5UPBcfeTWchgtQ7xcuYFs2kHQBw75V6LoFgigT3v5MykK7T',\n",
       "  'votingFor': '3NK2tkzqqK5spR2sZ7tujjqPksL45M3UUrcA4WhCkeiPtnugyE2x',\n",
       "  'stakingActive': False,\n",
       "  'privateKeyPath': '/home/bytesize/.coda-config/wallets/store/B62qmYvD5UPBcfeTWchgtQ7xcuYFs2kHQBw75V6LoFgigT3v5MykK7T'}}"
      ]
     },
     "execution_count": 12,
     "metadata": {},
     "output_type": "execute_result"
    }
   ],
   "source": [
    "mina_client.get_wallet(pk=MY_PK)"
   ]
  },
  {
   "cell_type": "code",
   "execution_count": 13,
   "id": "knowing-slovak",
   "metadata": {
    "ExecuteTime": {
     "end_time": "2021-03-01T17:47:43.965081Z",
     "start_time": "2021-03-01T17:47:43.770032Z"
    }
   },
   "outputs": [
    {
     "data": {
      "text/plain": [
       "{'daemonStatus': {'addrsAndPorts': {'bindIp': '0.0.0.0',\n",
       "   'clientPort': 8301,\n",
       "   'externalIp': '95.217.118.80',\n",
       "   'libp2pPort': 8302,\n",
       "   'peer': {'host': '0.0.0.0',\n",
       "    'libp2pPort': 8302,\n",
       "    'peerId': '12D3KooWJQkMic8LdCanhKkmBWgRTipg1k7LoCK9Md1QJAKxzvg8'}},\n",
       "  'blockProductionKeys': [],\n",
       "  'blockchainLength': 917,\n",
       "  'commitId': '[DIRTY]8dfa4837f72c9c4d8a4daa3d416d9c852619fbb4',\n",
       "  'confDir': '/home/bytesize/.coda-config',\n",
       "  'consensusConfiguration': {'acceptableNetworkDelay': 180000,\n",
       "   'delta': 0,\n",
       "   'epochDuration': 1285200000,\n",
       "   'genesisStateTimestamp': '2021-02-23 04:04:08.000000+01:00',\n",
       "   'k': 290,\n",
       "   'slotDuration': 180000,\n",
       "   'slotsPerEpoch': 7140},\n",
       "  'consensusMechanism': 'proof_of_stake',\n",
       "  'consensusTimeBestTip': {'endTime': '1614620408000',\n",
       "   'epoch': '0',\n",
       "   'globalSlot': '3171',\n",
       "   'slot': '3171',\n",
       "   'startTime': '1614620228000'},\n",
       "  'consensusTimeNow': {'endTime': '1614620948000',\n",
       "   'epoch': '0',\n",
       "   'globalSlot': '3174',\n",
       "   'slot': '3174',\n",
       "   'startTime': '1614620768000'},\n",
       "  'highestBlockLengthReceived': 917,\n",
       "  'ledgerMerkleRoot': 'jxSLGztp828c15R4pskjnUpxTYNsy3cKMj5ungjKMRgATGpyzcr',\n",
       "  'nextBlockProduction': {'times': []},\n",
       "  'numAccounts': 2042,\n",
       "  'peers': [{},\n",
       "   {},\n",
       "   {},\n",
       "   {},\n",
       "   {},\n",
       "   {},\n",
       "   {},\n",
       "   {},\n",
       "   {},\n",
       "   {},\n",
       "   {},\n",
       "   {},\n",
       "   {},\n",
       "   {},\n",
       "   {},\n",
       "   {},\n",
       "   {},\n",
       "   {},\n",
       "   {},\n",
       "   {},\n",
       "   {},\n",
       "   {},\n",
       "   {},\n",
       "   {},\n",
       "   {},\n",
       "   {},\n",
       "   {},\n",
       "   {},\n",
       "   {},\n",
       "   {},\n",
       "   {},\n",
       "   {},\n",
       "   {},\n",
       "   {},\n",
       "   {},\n",
       "   {},\n",
       "   {},\n",
       "   {},\n",
       "   {},\n",
       "   {},\n",
       "   {},\n",
       "   {},\n",
       "   {},\n",
       "   {},\n",
       "   {},\n",
       "   {},\n",
       "   {},\n",
       "   {},\n",
       "   {},\n",
       "   {},\n",
       "   {},\n",
       "   {},\n",
       "   {},\n",
       "   {},\n",
       "   {}],\n",
       "  'snarkWorkFee': 100000002,\n",
       "  'snarkWorker': None,\n",
       "  'stateHash': '3NLeT9NnyP7AXNotzvBQUP6dNMWuLde2GxJQCdby1njMqKSA6xeh',\n",
       "  'syncStatus': 'SYNCED',\n",
       "  'uptimeSecs': 183089,\n",
       "  'userCommandsSent': 4}}"
      ]
     },
     "execution_count": 13,
     "metadata": {},
     "output_type": "execute_result"
    }
   ],
   "source": [
    "mina_client.get_daemon_status()"
   ]
  },
  {
   "cell_type": "code",
   "execution_count": 15,
   "id": "effective-advisory",
   "metadata": {
    "ExecuteTime": {
     "end_time": "2021-03-01T17:48:05.156466Z",
     "start_time": "2021-03-01T17:48:00.234181Z"
    }
   },
   "outputs": [
    {
     "data": {
      "text/plain": [
       "{'bestChain': [{'protocolState': {'consensusState': {'blockHeight': '913'},\n",
       "    'previousStateHash': '3NKR8cZ9muSh1pG78jZwNmFbnvjZ9ByrM6fvwe7wS7BAZEN1nXNy'},\n",
       "   'stateHash': '3NLXku6f5QVxFiLxpyD2ZP6LgAH3og4vAtu8YrVvTcwkY5XEymGf'},\n",
       "  {'protocolState': {'consensusState': {'blockHeight': '914'},\n",
       "    'previousStateHash': '3NLXku6f5QVxFiLxpyD2ZP6LgAH3og4vAtu8YrVvTcwkY5XEymGf'},\n",
       "   'stateHash': '3NLjf17XASpYGU2aAypGgkZ5u6FKsxuzGfqGdgF5AsyqkzfAvUbb'},\n",
       "  {'protocolState': {'consensusState': {'blockHeight': '915'},\n",
       "    'previousStateHash': '3NLjf17XASpYGU2aAypGgkZ5u6FKsxuzGfqGdgF5AsyqkzfAvUbb'},\n",
       "   'stateHash': '3NLMzCVouFWXcFk2mQMQcGRB8x7UFtWG1EUtdxdSR5kZRBzbpGxY'},\n",
       "  {'protocolState': {'consensusState': {'blockHeight': '916'},\n",
       "    'previousStateHash': '3NLMzCVouFWXcFk2mQMQcGRB8x7UFtWG1EUtdxdSR5kZRBzbpGxY'},\n",
       "   'stateHash': '3NLb1ZV1Ze3RR5By2YPTksBaUCtWnxrdYbr9YTzN7kMoanUdnQYr'},\n",
       "  {'protocolState': {'consensusState': {'blockHeight': '917'},\n",
       "    'previousStateHash': '3NLb1ZV1Ze3RR5By2YPTksBaUCtWnxrdYbr9YTzN7kMoanUdnQYr'},\n",
       "   'stateHash': '3NLeT9NnyP7AXNotzvBQUP6dNMWuLde2GxJQCdby1njMqKSA6xeh'}]}"
      ]
     },
     "execution_count": 15,
     "metadata": {},
     "output_type": "execute_result"
    }
   ],
   "source": [
    "mina_client.get_best_chain(max_length=5)"
   ]
  },
  {
   "cell_type": "code",
   "execution_count": 41,
   "id": "amateur-numbers",
   "metadata": {
    "ExecuteTime": {
     "end_time": "2021-03-01T17:55:45.976789Z",
     "start_time": "2021-03-01T17:55:45.358199Z"
    },
    "scrolled": false
   },
   "outputs": [
    {
     "name": "stdout",
     "output_type": "stream",
     "text": [
      "3NLecmZysyC6qQfiVCSKYQ1CdMMT6DYzBKQXwPCcpWsk1p6jYSV7 B62qq9NThySt51nCcQeQuEjJEFQGRrvGee3XB1JAvTBuEpadeAD3CVa\n"
     ]
    }
   ],
   "source": [
    "b_h = mina_client.get_block_by_height(height=880)\n",
    "state_hash = b_h[\"block\"][\"stateHash\"]\n",
    "creator = b_h[\"block\"][\"creator\"]\n",
    "snark_jobs_df = pd.DataFrame(b_h[\"block\"][\"snarkJobs\"])\n",
    "\n",
    "print(state_hash, creator)"
   ]
  },
  {
   "cell_type": "code",
   "execution_count": 42,
   "id": "comfortable-audience",
   "metadata": {
    "ExecuteTime": {
     "end_time": "2021-03-01T17:55:46.009089Z",
     "start_time": "2021-03-01T17:55:45.979323Z"
    }
   },
   "outputs": [
    {
     "data": {
      "text/html": [
       "<div>\n",
       "<style scoped>\n",
       "    .dataframe tbody tr th:only-of-type {\n",
       "        vertical-align: middle;\n",
       "    }\n",
       "\n",
       "    .dataframe tbody tr th {\n",
       "        vertical-align: top;\n",
       "    }\n",
       "\n",
       "    .dataframe thead th {\n",
       "        text-align: right;\n",
       "    }\n",
       "</style>\n",
       "<table border=\"1\" class=\"dataframe\">\n",
       "  <thead>\n",
       "    <tr style=\"text-align: right;\">\n",
       "      <th></th>\n",
       "      <th>fee</th>\n",
       "      <th>prover</th>\n",
       "    </tr>\n",
       "  </thead>\n",
       "  <tbody>\n",
       "    <tr>\n",
       "      <th>0</th>\n",
       "      <td>10000000</td>\n",
       "      <td>B62qmZH4Y1wxaBvDHfg6XkdRKFnQDeJdJVUxyVpJWZGd8r...</td>\n",
       "    </tr>\n",
       "    <tr>\n",
       "      <th>1</th>\n",
       "      <td>20000000</td>\n",
       "      <td>B62qoGW2QDtDzvMpEaYWGKaKbGFVW6w2gqm1L54NHLVHDv...</td>\n",
       "    </tr>\n",
       "    <tr>\n",
       "      <th>2</th>\n",
       "      <td>10000000</td>\n",
       "      <td>B62qmZH4Y1wxaBvDHfg6XkdRKFnQDeJdJVUxyVpJWZGd8r...</td>\n",
       "    </tr>\n",
       "    <tr>\n",
       "      <th>3</th>\n",
       "      <td>10000000</td>\n",
       "      <td>B62qmZH4Y1wxaBvDHfg6XkdRKFnQDeJdJVUxyVpJWZGd8r...</td>\n",
       "    </tr>\n",
       "    <tr>\n",
       "      <th>4</th>\n",
       "      <td>10000000</td>\n",
       "      <td>B62qmZH4Y1wxaBvDHfg6XkdRKFnQDeJdJVUxyVpJWZGd8r...</td>\n",
       "    </tr>\n",
       "  </tbody>\n",
       "</table>\n",
       "</div>"
      ],
      "text/plain": [
       "        fee                                             prover\n",
       "0  10000000  B62qmZH4Y1wxaBvDHfg6XkdRKFnQDeJdJVUxyVpJWZGd8r...\n",
       "1  20000000  B62qoGW2QDtDzvMpEaYWGKaKbGFVW6w2gqm1L54NHLVHDv...\n",
       "2  10000000  B62qmZH4Y1wxaBvDHfg6XkdRKFnQDeJdJVUxyVpJWZGd8r...\n",
       "3  10000000  B62qmZH4Y1wxaBvDHfg6XkdRKFnQDeJdJVUxyVpJWZGd8r...\n",
       "4  10000000  B62qmZH4Y1wxaBvDHfg6XkdRKFnQDeJdJVUxyVpJWZGd8r..."
      ]
     },
     "execution_count": 42,
     "metadata": {},
     "output_type": "execute_result"
    }
   ],
   "source": [
    "snarkJobs_df.head()"
   ]
  },
  {
   "cell_type": "code",
   "execution_count": null,
   "id": "spectacular-poster",
   "metadata": {},
   "outputs": [],
   "source": []
  },
  {
   "cell_type": "code",
   "execution_count": 35,
   "id": "employed-waste",
   "metadata": {
    "ExecuteTime": {
     "end_time": "2021-03-01T17:53:46.425976Z",
     "start_time": "2021-03-01T17:53:46.180511Z"
    }
   },
   "outputs": [
    {
     "name": "stdout",
     "output_type": "stream",
     "text": [
      "880 B62qq9NThySt51nCcQeQuEjJEFQGRrvGee3XB1JAvTBuEpadeAD3CVa\n"
     ]
    }
   ],
   "source": [
    "b_sh = mina_client.get_block_by_state_hash(state_hash)\n",
    "block_height = b_sh['block']['protocolState']['consensusState']['blockHeight']\n",
    "creator = b_sh['block']['creator']\n",
    "snark_jobs_sh_df = pd.DataFrame(b_sh['block']['snarkJobs'])\n",
    "\n",
    "print(block_height, creator)"
   ]
  },
  {
   "cell_type": "code",
   "execution_count": 36,
   "id": "great-leisure",
   "metadata": {
    "ExecuteTime": {
     "end_time": "2021-03-01T17:53:51.054274Z",
     "start_time": "2021-03-01T17:53:51.027199Z"
    }
   },
   "outputs": [
    {
     "data": {
      "text/html": [
       "<div>\n",
       "<style scoped>\n",
       "    .dataframe tbody tr th:only-of-type {\n",
       "        vertical-align: middle;\n",
       "    }\n",
       "\n",
       "    .dataframe tbody tr th {\n",
       "        vertical-align: top;\n",
       "    }\n",
       "\n",
       "    .dataframe thead th {\n",
       "        text-align: right;\n",
       "    }\n",
       "</style>\n",
       "<table border=\"1\" class=\"dataframe\">\n",
       "  <thead>\n",
       "    <tr style=\"text-align: right;\">\n",
       "      <th></th>\n",
       "      <th>fee</th>\n",
       "      <th>prover</th>\n",
       "    </tr>\n",
       "  </thead>\n",
       "  <tbody>\n",
       "    <tr>\n",
       "      <th>0</th>\n",
       "      <td>10000000</td>\n",
       "      <td>B62qmZH4Y1wxaBvDHfg6XkdRKFnQDeJdJVUxyVpJWZGd8r...</td>\n",
       "    </tr>\n",
       "    <tr>\n",
       "      <th>1</th>\n",
       "      <td>20000000</td>\n",
       "      <td>B62qoGW2QDtDzvMpEaYWGKaKbGFVW6w2gqm1L54NHLVHDv...</td>\n",
       "    </tr>\n",
       "    <tr>\n",
       "      <th>2</th>\n",
       "      <td>10000000</td>\n",
       "      <td>B62qmZH4Y1wxaBvDHfg6XkdRKFnQDeJdJVUxyVpJWZGd8r...</td>\n",
       "    </tr>\n",
       "    <tr>\n",
       "      <th>3</th>\n",
       "      <td>10000000</td>\n",
       "      <td>B62qmZH4Y1wxaBvDHfg6XkdRKFnQDeJdJVUxyVpJWZGd8r...</td>\n",
       "    </tr>\n",
       "    <tr>\n",
       "      <th>4</th>\n",
       "      <td>10000000</td>\n",
       "      <td>B62qmZH4Y1wxaBvDHfg6XkdRKFnQDeJdJVUxyVpJWZGd8r...</td>\n",
       "    </tr>\n",
       "  </tbody>\n",
       "</table>\n",
       "</div>"
      ],
      "text/plain": [
       "        fee                                             prover\n",
       "0  10000000  B62qmZH4Y1wxaBvDHfg6XkdRKFnQDeJdJVUxyVpJWZGd8r...\n",
       "1  20000000  B62qoGW2QDtDzvMpEaYWGKaKbGFVW6w2gqm1L54NHLVHDv...\n",
       "2  10000000  B62qmZH4Y1wxaBvDHfg6XkdRKFnQDeJdJVUxyVpJWZGd8r...\n",
       "3  10000000  B62qmZH4Y1wxaBvDHfg6XkdRKFnQDeJdJVUxyVpJWZGd8r...\n",
       "4  10000000  B62qmZH4Y1wxaBvDHfg6XkdRKFnQDeJdJVUxyVpJWZGd8r..."
      ]
     },
     "execution_count": 36,
     "metadata": {},
     "output_type": "execute_result"
    }
   ],
   "source": [
    "snark_jobs_sh_df.head()"
   ]
  },
  {
   "cell_type": "code",
   "execution_count": null,
   "id": "happy-background",
   "metadata": {},
   "outputs": [],
   "source": []
  },
  {
   "cell_type": "markdown",
   "id": "swedish-depth",
   "metadata": {},
   "source": [
    "## wallet"
   ]
  },
  {
   "cell_type": "code",
   "execution_count": 37,
   "id": "universal-application",
   "metadata": {
    "ExecuteTime": {
     "end_time": "2021-03-01T17:54:50.275756Z",
     "start_time": "2021-03-01T17:54:50.130923Z"
    }
   },
   "outputs": [
    {
     "data": {
      "text/plain": [
       "{'ownedWallets': [{'publicKey': 'B62qmYvD5UPBcfeTWchgtQ7xcuYFs2kHQBw75V6LoFgigT3v5MykK7T',\n",
       "   'balance': {'total': '65945401080923'}},\n",
       "  {'publicKey': 'B62qqPxtDmNM1zUGTUf3MMc4U22eDEFhFZgnTPRnWnDrwpazwBSqLXg',\n",
       "   'balance': {'total': '0'}},\n",
       "  {'publicKey': 'B62qkwzvy6AMeWS4ucXy4occRgAUtFhLziQZD1f5fYef9i1dzCHJxEy',\n",
       "   'balance': {'total': '0'}}]}"
      ]
     },
     "execution_count": 37,
     "metadata": {},
     "output_type": "execute_result"
    }
   ],
   "source": [
    "mina_client.get_wallets()"
   ]
  },
  {
   "cell_type": "code",
   "execution_count": 43,
   "id": "informational-customer",
   "metadata": {
    "ExecuteTime": {
     "end_time": "2021-03-01T17:56:00.565620Z",
     "start_time": "2021-03-01T17:56:00.420647Z"
    }
   },
   "outputs": [
    {
     "data": {
      "text/plain": [
       "{'wallet': {'publicKey': 'B62qmYvD5UPBcfeTWchgtQ7xcuYFs2kHQBw75V6LoFgigT3v5MykK7T',\n",
       "  'balance': {'total': '65945401080923', 'unknown': '65945401080923'},\n",
       "  'nonce': '4',\n",
       "  'receiptChainHash': '2n1ryTdFMXCc7DmknY1a63VpkW1RbcKHktCfhGZMopHSN6xBUK89',\n",
       "  'delegate': 'B62qmYvD5UPBcfeTWchgtQ7xcuYFs2kHQBw75V6LoFgigT3v5MykK7T',\n",
       "  'votingFor': '3NK2tkzqqK5spR2sZ7tujjqPksL45M3UUrcA4WhCkeiPtnugyE2x',\n",
       "  'stakingActive': False,\n",
       "  'privateKeyPath': '/home/bytesize/.coda-config/wallets/store/B62qmYvD5UPBcfeTWchgtQ7xcuYFs2kHQBw75V6LoFgigT3v5MykK7T'}}"
      ]
     },
     "execution_count": 43,
     "metadata": {},
     "output_type": "execute_result"
    }
   ],
   "source": [
    "mina_client.get_wallet(MY_PK)"
   ]
  },
  {
   "cell_type": "code",
   "execution_count": 44,
   "id": "loose-prior",
   "metadata": {
    "ExecuteTime": {
     "end_time": "2021-03-01T17:56:21.300305Z",
     "start_time": "2021-03-01T17:56:21.140537Z"
    }
   },
   "outputs": [
    {
     "data": {
      "text/plain": [
       "{'unlockWallet': {'account': {'balance': {'total': '65945401080923'}}}}"
      ]
     },
     "execution_count": 44,
     "metadata": {},
     "output_type": "execute_result"
    }
   ],
   "source": [
    "mina_client.unlock_wallet(pk=MY_PK, password='my_pw')"
   ]
  },
  {
   "cell_type": "code",
   "execution_count": 45,
   "id": "desirable-roads",
   "metadata": {
    "ExecuteTime": {
     "end_time": "2021-03-01T17:56:33.579416Z",
     "start_time": "2021-03-01T17:56:33.361524Z"
    }
   },
   "outputs": [
    {
     "data": {
      "text/plain": [
       "{'daemonStatus': {'syncStatus': 'SYNCED'}}"
      ]
     },
     "execution_count": 45,
     "metadata": {},
     "output_type": "execute_result"
    }
   ],
   "source": [
    "mina_client.get_sync_status()"
   ]
  },
  {
   "cell_type": "code",
   "execution_count": null,
   "id": "alert-recipient",
   "metadata": {},
   "outputs": [],
   "source": []
  },
  {
   "cell_type": "markdown",
   "id": "conservative-technique",
   "metadata": {
    "ExecuteTime": {
     "end_time": "2021-03-01T18:00:17.054901Z",
     "start_time": "2021-03-01T18:00:17.031564Z"
    }
   },
   "source": [
    "## snarkworker"
   ]
  },
  {
   "cell_type": "code",
   "execution_count": 64,
   "id": "color-expense",
   "metadata": {
    "ExecuteTime": {
     "end_time": "2021-03-01T18:00:18.346649Z",
     "start_time": "2021-03-01T18:00:18.201661Z"
    }
   },
   "outputs": [
    {
     "data": {
      "text/plain": [
       "{'setSnarkWorker': {'lastSnarkWorker': None}, 'setSnarkWorkFee': {}}"
      ]
     },
     "execution_count": 64,
     "metadata": {},
     "output_type": "execute_result"
    }
   ],
   "source": [
    "mina_client.set_current_snark_worker(worker_pk=None, fee=100000002)"
   ]
  },
  {
   "cell_type": "code",
   "execution_count": 65,
   "id": "according-cricket",
   "metadata": {
    "ExecuteTime": {
     "end_time": "2021-03-01T18:00:22.815044Z",
     "start_time": "2021-03-01T18:00:22.436870Z"
    }
   },
   "outputs": [
    {
     "data": {
      "text/plain": [
       "{'currentSnarkWorker': None}"
      ]
     },
     "execution_count": 65,
     "metadata": {},
     "output_type": "execute_result"
    }
   ],
   "source": [
    "mina_client.get_current_snark_worker()"
   ]
  },
  {
   "cell_type": "code",
   "execution_count": 66,
   "id": "decimal-vessel",
   "metadata": {
    "ExecuteTime": {
     "end_time": "2021-03-01T18:00:26.074194Z",
     "start_time": "2021-03-01T18:00:25.926296Z"
    }
   },
   "outputs": [
    {
     "data": {
      "text/plain": [
       "{'setSnarkWorker': {'lastSnarkWorker': None}, 'setSnarkWorkFee': {}}"
      ]
     },
     "execution_count": 66,
     "metadata": {},
     "output_type": "execute_result"
    }
   ],
   "source": [
    "mina_client.set_current_snark_worker(worker_pk=MY_PK, fee=100000003)"
   ]
  },
  {
   "cell_type": "code",
   "execution_count": 67,
   "id": "referenced-absorption",
   "metadata": {
    "ExecuteTime": {
     "end_time": "2021-03-01T18:00:29.310667Z",
     "start_time": "2021-03-01T18:00:29.169983Z"
    }
   },
   "outputs": [
    {
     "data": {
      "text/plain": [
       "{'currentSnarkWorker': {'key': 'B62qmYvD5UPBcfeTWchgtQ7xcuYFs2kHQBw75V6LoFgigT3v5MykK7T',\n",
       "  'fee': '100000003'}}"
      ]
     },
     "execution_count": 67,
     "metadata": {},
     "output_type": "execute_result"
    }
   ],
   "source": [
    "mina_client.get_current_snark_worker()"
   ]
  },
  {
   "cell_type": "code",
   "execution_count": 62,
   "id": "damaged-october",
   "metadata": {
    "ExecuteTime": {
     "end_time": "2021-03-01T18:00:04.542937Z",
     "start_time": "2021-03-01T17:59:59.025355Z"
    }
   },
   "outputs": [
    {
     "data": {
      "text/plain": [
       "{'currentSnarkWorker': None}"
      ]
     },
     "execution_count": 62,
     "metadata": {},
     "output_type": "execute_result"
    }
   ],
   "source": []
  },
  {
   "cell_type": "code",
   "execution_count": 50,
   "id": "amber-celebrity",
   "metadata": {
    "ExecuteTime": {
     "end_time": "2021-03-01T17:57:36.435039Z",
     "start_time": "2021-03-01T17:57:32.410774Z"
    }
   },
   "outputs": [],
   "source": [
    "SOME_OTHER_PK = \"B62qokL7r6Q21BXRqk6MGVbsB8ETkvA9cyJ6QX6LsFMHERvwY91TP4L\"\n",
    "\n",
    "payment = mina_client.send_payment(\n",
    "    to_pk=SOME_OTHER_PK,\n",
    "    from_pk=MY_PK,\n",
    "    amount=Currency(10),\n",
    "    fee=Currency(5),\n",
    "    memo=\"from_python\",\n",
    ")"
   ]
  },
  {
   "cell_type": "code",
   "execution_count": 51,
   "id": "covered-district",
   "metadata": {
    "ExecuteTime": {
     "end_time": "2021-03-01T17:57:39.553728Z",
     "start_time": "2021-03-01T17:57:39.528951Z"
    }
   },
   "outputs": [
    {
     "data": {
      "text/plain": [
       "{'sendPayment': {'payment': {'id': 'rKAkRnV1yvr54Mj5ifZhBmtGtv1TUkiwiRQqaX7GTG4uyzJx6Zau6wPQiJqzHNeoqJ9TPsftXWDFDDhqMcSuy2oXcynJPLe8FtY8UsdJaxrYtoYx3aCkudor6HhHJsaXWrFBXkmCq4Hmnh15CS9jDr9obhHfV2Zx8Z5Wk4ZGEQPPHV82Dz1WSVca9zbravV26K4Mx6GwPrbkEUkkU8mTn3CLWN8QUhWsSxcvCCoaR6voQh9NPzvbMyaqb5nJ99VWFj2Vr1RbiHx4HCXeGDuQgccT5Ng8pK1wBuDAyXRV4sxof9cZGKLmjEACqxAfs7SEABWcP4CACAjN89qNxnPa9mUAjirPaHDzybuoEWYnrvmQ4MdrBR7cPETpmGedBLH79G3N6bqehWm4qv7qZiW91',\n",
       "   'isDelegation': False,\n",
       "   'nonce': 5,\n",
       "   'from': 'B62qmYvD5UPBcfeTWchgtQ7xcuYFs2kHQBw75V6LoFgigT3v5MykK7T',\n",
       "   'to': 'B62qokL7r6Q21BXRqk6MGVbsB8ETkvA9cyJ6QX6LsFMHERvwY91TP4L',\n",
       "   'amount': '10000000000',\n",
       "   'fee': '5000000000',\n",
       "   'memo': 'E4YjCEGPAfzRcRvmRCJy7HkYS7ZirMSc3BnP2dkA38YbLzXzdsPbk'}}}"
      ]
     },
     "execution_count": 51,
     "metadata": {},
     "output_type": "execute_result"
    }
   ],
   "source": [
    "payment"
   ]
  },
  {
   "cell_type": "code",
   "execution_count": 56,
   "id": "existing-signal",
   "metadata": {
    "ExecuteTime": {
     "end_time": "2021-03-01T17:58:28.948379Z",
     "start_time": "2021-03-01T17:58:28.921464Z"
    }
   },
   "outputs": [],
   "source": [
    "payment_id = payment['sendPayment']['payment']['id']"
   ]
  },
  {
   "cell_type": "code",
   "execution_count": 57,
   "id": "informational-course",
   "metadata": {
    "ExecuteTime": {
     "end_time": "2021-03-01T17:58:34.069599Z",
     "start_time": "2021-03-01T17:58:29.208115Z"
    }
   },
   "outputs": [
    {
     "data": {
      "text/plain": [
       "{'transactionStatus': 'PENDING'}"
      ]
     },
     "execution_count": 57,
     "metadata": {},
     "output_type": "execute_result"
    }
   ],
   "source": [
    "mina_client.get_transaction_status(payment_id)"
   ]
  },
  {
   "cell_type": "code",
   "execution_count": 58,
   "id": "resident-thesis",
   "metadata": {
    "ExecuteTime": {
     "end_time": "2021-03-01T17:58:34.202314Z",
     "start_time": "2021-03-01T17:58:34.072220Z"
    }
   },
   "outputs": [
    {
     "data": {
      "text/plain": [
       "{'pooledUserCommands': [{'id': 'rKAkRnV1yvr54Mj5ifZhBmtGtv1TUkiwiRQqaX7GTG4uyzJx6Zau6wPQiJqzHNeoqJ9TPsftXWDFDDhqMcPbYnNqb57AeReyvzEePiszKVEvwrQJHBFEUgDffDL6vMBPN4eRqXLBdfeJJ7wxbLuRA26KHitDU5zyXiCECUbsYFzvNKH37AVmfjtCstaCJKcGdnyvymLeufRuhX7LpWLvPvEREt3U63uJZqoeks4Vsz4cYrJERsPPZX4ThkziEJev2w1tCHJ6YRpo8jN4bCKNk3PTkQ9tSq8d1yKsSUw6oWxnz8rS6nNp4cgYAqJHSa8CTnnJX6JMrvLiXCgnPYZ8AfbfBudU9veE8FjrB6i5teFGKm2nb1RaRF8AmwVo1X4v8TwT6KdrBUJcswiLoSPEr',\n",
       "   'isDelegation': False,\n",
       "   'nonce': 4,\n",
       "   'from': 'B62qmYvD5UPBcfeTWchgtQ7xcuYFs2kHQBw75V6LoFgigT3v5MykK7T',\n",
       "   'to': 'B62qokL7r6Q21BXRqk6MGVbsB8ETkvA9cyJ6QX6LsFMHERvwY91TP4L',\n",
       "   'amount': '10000000000',\n",
       "   'fee': '5000000000',\n",
       "   'memo': 'E4YjCEGPAfzRcRvmRCJy7HkYS7ZirMSc3BnP2dkA38YbLzXzdsPbk'},\n",
       "  {'id': 'rKAkRnV1yvr54Mj5ifZhBmtGtv1TUkiwiRQqaX7GTG4uyzJx6Zau6wPQiJqzHNeoqJ9TPsftXWDFDDhqMcSuy2oXcynJPLe8FtY8UsdJaxrYtoYx3aCkudor6HhHJsaXWrFBXkmCq4Hmnh15CS9jDr9obhHfV2Zx8Z5Wk4ZGEQPPHV82Dz1WSVca9zbravV26K4Mx6GwPrbkEUkkU8mTn3CLWN8QUhWsSxcvCCoaR6voQh9NPzvbMyaqb5nJ99VWFj2Vr1RbiHx4HCXeGDuQgccT5Ng8pK1wBuDAyXRV4sxof9cZGKLmjEACqxAfs7SEABWcP4CACAjN89qNxnPa9mUAjirPaHDzybuoEWYnrvmQ4MdrBR7cPETpmGedBLH79G3N6bqehWm4qv7qZiW91',\n",
       "   'isDelegation': False,\n",
       "   'nonce': 5,\n",
       "   'from': 'B62qmYvD5UPBcfeTWchgtQ7xcuYFs2kHQBw75V6LoFgigT3v5MykK7T',\n",
       "   'to': 'B62qokL7r6Q21BXRqk6MGVbsB8ETkvA9cyJ6QX6LsFMHERvwY91TP4L',\n",
       "   'amount': '10000000000',\n",
       "   'fee': '5000000000',\n",
       "   'memo': 'E4YjCEGPAfzRcRvmRCJy7HkYS7ZirMSc3BnP2dkA38YbLzXzdsPbk'}]}"
      ]
     },
     "execution_count": 58,
     "metadata": {},
     "output_type": "execute_result"
    }
   ],
   "source": [
    "mina_client.get_pooled_payments(MY_PK)"
   ]
  },
  {
   "cell_type": "code",
   "execution_count": 59,
   "id": "magnetic-vitamin",
   "metadata": {
    "ExecuteTime": {
     "end_time": "2021-03-01T17:58:53.647288Z",
     "start_time": "2021-03-01T17:58:52.954658Z"
    }
   },
   "outputs": [
    {
     "data": {
      "text/plain": [
       "{'createAccount': {'publicKey': 'B62qrzUeqJPVN5E4KetRZbHHN7RZVT6BiMkKNmiaKSSvL8pix22AN5a'}}"
      ]
     },
     "execution_count": 59,
     "metadata": {},
     "output_type": "execute_result"
    }
   ],
   "source": [
    "mina_client.create_wallet('some_pw')"
   ]
  },
  {
   "cell_type": "code",
   "execution_count": 61,
   "id": "collectible-serum",
   "metadata": {
    "ExecuteTime": {
     "end_time": "2021-03-01T17:59:11.976627Z",
     "start_time": "2021-03-01T17:59:11.435998Z"
    }
   },
   "outputs": [
    {
     "data": {
      "text/plain": [
       "{'unlockWallet': {'account': {'balance': {'total': '0'}}}}"
      ]
     },
     "execution_count": 61,
     "metadata": {},
     "output_type": "execute_result"
    }
   ],
   "source": [
    "mina_client.unlock_wallet('B62qrzUeqJPVN5E4KetRZbHHN7RZVT6BiMkKNmiaKSSvL8pix22AN5a', 'some_pw')"
   ]
  },
  {
   "cell_type": "code",
   "execution_count": null,
   "id": "alpine-underground",
   "metadata": {},
   "outputs": [],
   "source": []
  },
  {
   "cell_type": "code",
   "execution_count": null,
   "id": "micro-parking",
   "metadata": {},
   "outputs": [],
   "source": []
  },
  {
   "cell_type": "code",
   "execution_count": null,
   "id": "curious-rubber",
   "metadata": {},
   "outputs": [],
   "source": []
  }
 ],
 "metadata": {
  "kernelspec": {
   "display_name": "Python 3",
   "language": "python",
   "name": "python3"
  },
  "language_info": {
   "codemirror_mode": {
    "name": "ipython",
    "version": 3
   },
   "file_extension": ".py",
   "mimetype": "text/x-python",
   "name": "python",
   "nbconvert_exporter": "python",
   "pygments_lexer": "ipython3",
   "version": "3.8.5"
  }
 },
 "nbformat": 4,
 "nbformat_minor": 5
}
